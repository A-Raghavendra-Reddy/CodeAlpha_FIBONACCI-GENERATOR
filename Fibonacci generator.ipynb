{
 "cells": [
  {
   "cell_type": "code",
   "execution_count": 1,
   "id": "bad49235",
   "metadata": {},
   "outputs": [
    {
     "name": "stdout",
     "output_type": "stream",
     "text": [
      "[0, 1, 1, 2, 3, 5, 8, 13, 21, 34]\n"
     ]
    }
   ],
   "source": [
    "def fibonacci_generator(n):\n",
    "    fib_series = [0, 1]  # Initializing the series with first two Fibonacci numbers\n",
    "    \n",
    "    if n <= 0:\n",
    "        return \"Please enter a positive integer.\"\n",
    "    elif n == 1:\n",
    "        return [0]  # Return [0] if n is 1\n",
    "    elif n == 2:\n",
    "        return [0, 1]  # Return [0, 1] if n is 2\n",
    "    else:\n",
    "        for i in range(2, n):\n",
    "            next_fib = fib_series[-1] + fib_series[-2]  # Calculate next Fibonacci number\n",
    "            fib_series.append(next_fib)  # Add next Fibonacci number to the series\n",
    "        return fib_series\n",
    "\n",
    "# Example usage:\n",
    "n = 10  # Generate Fibonacci series up to the 10th number\n",
    "print(fibonacci_generator(n))\n"
   ]
  },
  {
   "cell_type": "code",
   "execution_count": 1,
   "id": "84297ff4",
   "metadata": {},
   "outputs": [
    {
     "name": "stdout",
     "output_type": "stream",
     "text": [
      "Fibonacci series up to 10 terms: [0, 1, 1, 2, 3, 5, 8, 13, 21, 34]\n"
     ]
    }
   ],
   "source": [
    "def generate_fibonacci(n):\n",
    "    fibonacci_series = [0, 1]  # Initialize the series with the first two Fibonacci numbers\n",
    "    for i in range(2, n):\n",
    "        next_number = fibonacci_series[-1] + fibonacci_series[-2]  # Sum of the last two numbers\n",
    "        fibonacci_series.append(next_number)  # Append the next number to the series\n",
    "    return fibonacci_series\n",
    "\n",
    "# Example usage:\n",
    "num_terms = 10  # Number of terms in the Fibonacci series\n",
    "fib_series = generate_fibonacci(num_terms)\n",
    "print(\"Fibonacci series up to\", num_terms, \"terms:\", fib_series)\n"
   ]
  },
  {
   "cell_type": "code",
   "execution_count": null,
   "id": "02467b6f",
   "metadata": {},
   "outputs": [],
   "source": []
  }
 ],
 "metadata": {
  "kernelspec": {
   "display_name": "Python 3 (ipykernel)",
   "language": "python",
   "name": "python3"
  },
  "language_info": {
   "codemirror_mode": {
    "name": "ipython",
    "version": 3
   },
   "file_extension": ".py",
   "mimetype": "text/x-python",
   "name": "python",
   "nbconvert_exporter": "python",
   "pygments_lexer": "ipython3",
   "version": "3.11.5"
  }
 },
 "nbformat": 4,
 "nbformat_minor": 5
}
